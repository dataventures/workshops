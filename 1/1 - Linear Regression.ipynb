{
 "cells": [
  {
   "cell_type": "markdown",
   "metadata": {},
   "source": [
    "# Linear Regression\n",
    "\n",
    "[Linear Regression]()\n",
    "\n",
    "Learning regression (which many of you have learned about before) is a robust method for modeling continuous data. We're teaching it because it's used a *lot* in practice, and it's fairly simple to get your head around.\n",
    "\n",
    "Briefly, let's set the situation up: suppose you have a list of coordinate pairs $(x_1, y_1), (x_2, y_2), \\ldots (x_n, y_n)$, and you would like to predict $y$ values corresponding to a particular $x'$. Our model will look like $f(x) = mx + b$, where our answer to the question will be $f(x')$ of course. Now, since this is real, messy data, of course all of the $x_i$ and $y_i$ are not going to follow the model. In reality, there will be some *error*, which we call the residuals (i.e., the difference between $f(x_i)$ and $y_i$).\n",
    "\n",
    "### When to use linear regression?\n",
    "Use linear regression when you have the following:\n",
    "1. The `x` values are fixed, known values (or at least have very low variance compared to the residuals).\n",
    "2. Reasonable expectation that the data follows a linear model (this is usually the case, since by assumption (1) you can use as inputs any function of $x$ as a parameter to your regression).\n",
    "3. The residuals are normally distributed with constant variance, and are independent.\n",
    "\n",
    "Usually, the last assumption is the most difficult to satisfy, since if you have data across a large $x$-span, then the errors not usually univariate (think about what a 10% measurement error at 1mm looks like and what it looks like at 100m). Remember that *variance*, (or the square of standard deviation) is a scalar quantity, unlike z-score.\n",
    "\n",
    "### Ordinary Least Squares (OLS) Regression\n",
    "The goal with OLS is to minimize the L2 error, or the sum of squares error. Consider a candidate $m$ and $b$. The sum of squares error is \n",
    "$$\\sum_{i = 1}^n (mx_i + b - y_i)^2$$\n",
    "To minimize this, we can take the derivative w.r.t. $m$ and the derivative w.r.t. $b$, and set them equal to 0. We get:\n",
    "\n",
    "$$\\sum_{i = 1}^n 2(mx_i + b - y_i) = 0$$\n",
    "\n",
    "$$\\sum_{i = 1}^n 2x_i(mx_i + b - y_i) = 0$$\n",
    "\n",
    "Remember that we know every value except for $m$ and $b$. This gives us, then, a system of 2 equations in 2 variables. Solving that system gives us the OLS solution:\n",
    "\n",
    "$$m = \\frac{\\overline{xy} - \\overline{x} \\cdot \\overline{y}}{\\overline{x^2} - \\overline{x}^2}$$\n",
    "$$b = \\overline{y} - m\\cdot\\overline{x}$$\n",
    "\n",
    "where we've used the notation $\\overline{x}$ to mean the average of the $x_i$. Note in particular that the average $\\overline{xy}$ means $(\\sum_{i = 1}^n x_iy_i)/N$. "
   ]
  },
  {
   "cell_type": "markdown",
   "metadata": {},
   "source": [
    "### Ok, let's implement that\n"
   ]
  },
  {
   "cell_type": "code",
   "execution_count": 10,
   "metadata": {
    "collapsed": false
   },
   "outputs": [
    {
     "data": {
      "text/plain": [
       "[<matplotlib.lines.Line2D at 0x104e8eb50>]"
      ]
     },
     "execution_count": 10,
     "metadata": {},
     "output_type": "execute_result"
    },
    {
     "data": {
      "image/png": "[encoded data removed]",
      "text/plain": [
       "<matplotlib.figure.Figure at 0x104e82750>"
      ]
     },
     "metadata": {},
     "output_type": "display_data"
    }
   ],
   "source": [
    "%matplotlib inline\n",
    "\n",
    "import matplotlib\n",
    "import numpy as np\n",
    "import matplotlib.pyplot as plt\n",
    "\n",
    "def ols(xes, yes):\n",
    "    \"\"\"Do Ordinary Least Squares (OLS) regression on a set of x and y positions\"\"\"\n",
    "    n = len(xes)\n",
    "    xbar = np.mean(xes)\n",
    "    print(xbar)\n",
    "    ybar = np.mean(yes)\n",
    "    print(ybar)\n",
    "    xvar = np.mean([x*x for x in xes])\n",
    "    xybar = np.mean([x*y for (x,y) in zip(xes, yes)])\n",
    "    m = (xybar - (xbar * ybar))/(xvar - xbar**2)\n",
    "    b = ybar - m*xbar\n",
    "    return m, b\n",
    "\n",
    "x = np.arange(100)/100.\n",
    "# generate y using a 'true' mean and y intercept, and then add noise\n",
    "y = (x*2.02 + 5.) + (np.random.rand(100) * 0.1 - 0.05)\n",
    "plt.plot(x, y, 'ro')"
   ]
  },
  {
   "cell_type": "code",
   "execution_count": 12,
   "metadata": {
    "collapsed": false
   },
   "outputs": [
    {
     "name": "stdout",
     "output_type": "stream",
     "text": [
      "0.495\n",
      "5.99983861901\n",
      "(2.01894579070568, 5.0004604526139484)\n"
     ]
    },
    {
     "data": {
      "text/plain": [
       "[<matplotlib.lines.Line2D at 0x10516e510>]"
      ]
     },
     "execution_count": 12,
     "metadata": {},
     "output_type": "execute_result"
    },
    {
     "data": {
      "image/png": "[encoded data removed]",
      "text/plain": [
       "<matplotlib.figure.Figure at 0x105113090>"
      ]
     },
     "metadata": {},
     "output_type": "display_data"
    }
   ],
   "source": [
    "m, b = ols(x, y)\n",
    "print(m, b)\n",
    "plt.plot(x, y, 'ro')\n",
    "plt.plot(x, m*x + b)"
   ]
  },
  {
   "cell_type": "markdown",
   "metadata": {},
   "source": [
    "### So that works!\n",
    "We basically (to within a reasonable level of error) recovered the original slope and intercept of that data. We have a good model for predicting points in the future. However, we'd like to know **how** good our model is, which means we need to do cross validation. Luckily, there's a great framework for this built into `sklearn`:"
   ]
  },
  {
   "cell_type": "code",
   "execution_count": 20,
   "metadata": {
    "collapsed": false
   },
   "outputs": [
    {
     "name": "stdout",
     "output_type": "stream",
     "text": [
      "('Coefficients: \\n', array([ 2.02200671]))\n",
      "Mean squared error: 0.00\n",
      "Variance score: 1.00\n"
     ]
    },
    {
     "data": {
      "image/png": "[encoded data removed]",
      "text/plain": [
       "<matplotlib.figure.Figure at 0x1072a4650>"
      ]
     },
     "metadata": {},
     "output_type": "display_data"
    }
   ],
   "source": [
    "from sklearn.cross_validation import train_test_split\n",
    "from sklearn import linear_model\n",
    "\n",
    "x_train, x_test, y_train, y_test = train_test_split(x, y, test_size=0.15)\n",
    "\n",
    "# unfortunately, the shape of x_train and x_test isn't quite right\n",
    "x_train = x_train.reshape(x_train.shape[0], 1)\n",
    "x_test = x_test.reshape(x_test.shape[0], 1)\n",
    "\n",
    "# let's use sklearn's nice linear regression API\n",
    "regr = linear_model.LinearRegression()\n",
    "\n",
    "# train the model using the training sets\n",
    "regr.fit(x_train, y_train)\n",
    "\n",
    "# The coefficients\n",
    "print('Coefficients: \\n', regr.coef_)\n",
    "\n",
    "# The mean squared error\n",
    "print(\"Mean squared error: %.2f\" % np.mean((regr.predict(x_test) - y_test) ** 2.0))\n",
    "\n",
    "# Explained variance score: 1 is perfect prediction\n",
    "print('Variance score: %.2f' % regr.score(x_test, y_test))\n",
    "\n",
    "# Plot outputs\n",
    "plt.scatter(x_test, y_test, marker='o')\n",
    "plt.plot(x_test, regr.predict(x_test), color='blue', linewidth=1)\n",
    "\n",
    "plt.xticks(())\n",
    "plt.yticks(())\n",
    "\n",
    "plt.show()"
   ]
  },
  {
   "cell_type": "markdown",
   "metadata": {},
   "source": [
    "We used `sklearn`'s API here to teach you in general how prediction in linear regression land works. Notice that we had to *reshape* the x arrays in order to get them to work - that's because in general, x values aren't a single value, but instead an array of *features*, which are things that you look for. For example, a feature ($f_1$) could be the number of eyes in the picture, or the sum of all the pixel values, etc. Any measurable quantity can be a feature.\n",
    "\n",
    "### More than linear regression?\n",
    "Suppose we wanted to learn some nonlinear function of the data, like functions of the form \n",
    "\n",
    "$$y = a_1x^2 + a_2\\ln(x)$$\n",
    "\n",
    "(this is a crazy function I've never seen in practice). Linear regression actually generalizes really powerfully, because we can just *transform* the input to get the features we're looking for. Let's try it in this example:"
   ]
  },
  {
   "cell_type": "code",
   "execution_count": 34,
   "metadata": {
    "collapsed": false
   },
   "outputs": [
    {
     "name": "stdout",
     "output_type": "stream",
     "text": [
      "('Coefficients: \\n', array([ 1.76249762,  0.0514794 ]))\n",
      "Mean squared error: 0.01\n",
      "Variance score: 0.95\n"
     ]
    },
    {
     "data": {
      "image/png": "[encoded data removed]",
      "text/plain": [
       "<matplotlib.figure.Figure at 0x1073b6ed0>"
      ]
     },
     "metadata": {},
     "output_type": "display_data"
    }
   ],
   "source": [
    "# so we don't divide by 0!!!\n",
    "epsilon = 0.0000001\n",
    "\n",
    "x_train_transformed = np.array([[x**2, np.log(x + epsilon)] for x in x_train]).reshape(85, 2)\n",
    "x_test_transformed = np.array([[x**2, np.log(x + epsilon)] for x in x_test]).reshape(15, 2)\n",
    "\n",
    "# let's use sklearn's nice linear regression API\n",
    "regr2 = linear_model.LinearRegression()\n",
    "\n",
    "# train the model using the training sets\n",
    "regr2.fit(x_train_transformed, y_train)\n",
    "\n",
    "# The coefficients\n",
    "print('Coefficients: \\n', regr2.coef_)\n",
    "\n",
    "# The mean squared error\n",
    "print(\"Mean squared error: %.2f\" % np.mean((regr2.predict(x_test_transformed) - y_test) ** 2.0))\n",
    "\n",
    "# Explained variance score: 1 is perfect prediction\n",
    "print('Variance score: %.2f' % regr2.score(x_test_transformed, y_test))\n",
    "\n",
    "# Plot outputs\n",
    "plt.scatter(x_test, y_test, marker='o')\n",
    "plt.plot(sorted(x_test), sorted(regr2.predict(x_test_transformed)), marker='o')\n",
    "\n",
    "plt.xticks(())\n",
    "plt.yticks(())\n",
    "\n",
    "plt.show()"
   ]
  },
  {
   "cell_type": "code",
   "execution_count": null,
   "metadata": {
    "collapsed": true
   },
   "outputs": [],
   "source": []
  }
 ],
 "metadata": {
  "kernelspec": {
   "display_name": "Python 2",
   "language": "python",
   "name": "python2"
  },
  "language_info": {
   "codemirror_mode": {
    "name": "ipython",
    "version": 2
   },
   "file_extension": ".py",
   "mimetype": "text/x-python",
   "name": "python",
   "nbconvert_exporter": "python",
   "pygments_lexer": "ipython2",
   "version": "2.7.11"
  }
 },
 "nbformat": 4,
 "nbformat_minor": 0
}
