{
 "cells": [
  {
   "cell_type": "code",
   "execution_count": 2,
   "metadata": {
    "collapsed": true
   },
   "outputs": [],
   "source": [
    "# importing useful python packages\n",
    "\n",
    "import sklearn \n",
    "import numpy as np\n",
    "import pandas as pd\n",
    "import numpy.random as random"
   ]
  },
  {
   "cell_type": "markdown",
   "metadata": {},
   "source": [
    "# What is Supervised Learning?"
   ]
  },
  {
   "cell_type": "markdown",
   "metadata": {},
   "source": [
    "## 0. Supervised vs. Unsupervised Learning"
   ]
  },
  {
   "cell_type": "markdown",
   "metadata": {},
   "source": [
    "In supervised learning, the model defines the effect one set of observations, called inputs, has on another set of observations, called outputs. We are given a dataset with response variables and predictor variables and use this to try to come up with a function that maps predictor variables to response variables. We assume that there is some true mapping function $f$, and try to come up with an approximation $\\hat f$ so that given new data, we can make accurate predictions.\n",
    "\n",
    "Unsupervised learning is where you only have input data and no corresponding output variables. The goal for unsupervised learning is to model the underlying structure or distribution in the data in order to learn more about the data. These are called unsupervised learning because unlike supervised learning above there is no correct answers and there is no teacher. Algorithms are left on their own to discover interesting structure and patterns in the data.\n",
    "\n",
    "\n"
   ]
  },
  {
   "cell_type": "markdown",
   "metadata": {},
   "source": [
    "## 1. Types of Variables: Predictors and Response\n"
   ]
  },
  {
   "cell_type": "markdown",
   "metadata": {},
   "source": [
    "In a typical supervised learning problem, we have some number of predictors variables and a response (or outcome) variable. The outcome variable is the variable that we would like to predict. The predictor variables are the ones that we have at our disposal to try to determine the outcome variable. We usually label the number of predictor variables as $p$, and we call the $i$th instance of the $j$th predictor variable $X_{i,j}$. We call the $i$th instance of the response variable $Y_i$. Generally we write $Y = f(X) + \\epsilon$, where $\\epsilon$ represents the true error of the relationship between $X$ and $Y$, which is impossible to predict. \n",
    "\n",
    "Summary of Notation:\n",
    "\n",
    "$\\hat{Y_i}$ is the predicted outcome from our model. \n",
    "\n",
    "$Y_i$ is the true outcome. \n",
    "\n",
    "$X_{i,j}$ is the jth predictor variable\n",
    "\n",
    "We sometimes refer to the predictor variables collectively as a vector: $X_i$\n",
    "\n",
    "\n",
    "\n"
   ]
  },
  {
   "cell_type": "markdown",
   "metadata": {},
   "source": [
    "## 2. Regression vs Classification \n"
   ]
  },
  {
   "cell_type": "markdown",
   "metadata": {},
   "source": [
    "There are two types of supervised learning problems: regression and classification. In regression, we have a continuous response variable, with ordering. In classification, we have discrete response variables, without ordering. \n",
    "\n",
    "For example, in a regression problem, we might try to predict the price of a house given predictor variables such as size, and geographic location. \n",
    "\n",
    "In a classification problem we might try to predict whether someone has a disease or doesn't have a disease based on various health metrics\n"
   ]
  },
  {
   "cell_type": "markdown",
   "metadata": {},
   "source": [
    "## 3. Measuring Performance: Loss Functions"
   ]
  },
  {
   "cell_type": "markdown",
   "metadata": {},
   "source": [
    "Once we have a model, to evaluate how good it is we need some metric of performance. We call this metric the loss function. Below are two typical examples of loss functions, used for regression problems.\n",
    "\n",
    "\n",
    "Residual Sum of Squares: $RSS = \\sum_{i=1}^n{(y_i - \\hat{y_i})^2}$\n",
    "\n",
    "Mean Squared Error: $MSE = \\frac{1}{n} \\sum_{i=1}^n{(y_i - \\hat{y_i})^2}$\n",
    "\n",
    "\n",
    "Explain why the Residual Sum of Squares makes sense to evaluate performance for a regression problem\n",
    "\n"
   ]
  },
  {
   "cell_type": "markdown",
   "metadata": {},
   "source": [
    "## 3. Splitting the Data into Training and Test subsets"
   ]
  },
  {
   "cell_type": "markdown",
   "metadata": {},
   "source": [
    "One way to validate our model is to split the dataset we're given into random subsets, training and test. This is to prevent overfitting, where our predictive model is taking into account fluctuations due to the irreducible error ($\\epsilon$) in the dataset rather than solely the function $f$ that relates $X$ (predictors) and $Y$ (response). Because of this, it's important to validate our model by testing it on a dataset other than the training set. \n",
    "\n",
    "What are the disadvantages of this approach? \n",
    "\n",
    "Another way to select a model is to use metrics (loss functions) that penalize flexibility in the model. We'll talk more about this later. "
   ]
  },
  {
   "cell_type": "markdown",
   "metadata": {},
   "source": [
    "### Activity: \n",
    "\n",
    "Download the dataset: (blank) and split the dataset  into two random sets: training and test using random.permutation\n"
   ]
  },
  {
   "cell_type": "code",
   "execution_count": 12,
   "metadata": {
    "collapsed": false
   },
   "outputs": [],
   "source": [
    "dataset = pd.read_csv('dataset_3.txt')\n",
    "dataset = dataset.values\n",
    "random_indices = dataset[random.permutation(len(dataset))]\n",
    "train = random_indices[:len(random_indices)/2]\n",
    "test  = random_indices[len(random_indices)/2:]"
   ]
  },
  {
   "cell_type": "code",
   "execution_count": 13,
   "metadata": {
    "collapsed": false
   },
   "outputs": [
    {
     "data": {
      "text/plain": [
       "array([[ 0.78872 ,  0.12372 ],\n",
       "       [ 0.30162 ,  0.92028 ],\n",
       "       [ 0.98219 ,  0.36954 ],\n",
       "       [ 0.52378 ,  0.63821 ],\n",
       "       [ 0.60952 ,  0.31562 ],\n",
       "       [ 0.25461 ,  1.2268  ],\n",
       "       [ 0.2193  ,  1.1652  ],\n",
       "       [ 0.93116 ,  0.31258 ],\n",
       "       [ 0.40037 ,  0.79861 ],\n",
       "       [ 0.20943 ,  0.87333 ],\n",
       "       [ 0.6277  ,  0.14077 ],\n",
       "       [ 0.53018 ,  0.4121  ],\n",
       "       [ 0.59201 ,  0.39336 ],\n",
       "       [ 0.95933 ,  0.46815 ],\n",
       "       [ 0.48321 ,  0.58507 ],\n",
       "       [ 0.70083 ,  0.269   ],\n",
       "       [ 0.75707 ,  0.030316],\n",
       "       [ 0.38015 ,  0.82334 ],\n",
       "       [ 0.98018 ,  0.25187 ],\n",
       "       [ 0.27079 ,  0.81714 ],\n",
       "       [ 0.79875 ,  0.17337 ],\n",
       "       [ 0.9827  ,  0.27228 ],\n",
       "       [ 0.029917,  0.78036 ],\n",
       "       [ 0.69138 ,  0.19235 ],\n",
       "       [ 0.80825 ,  0.27585 ],\n",
       "       [ 0.64675 ,  0.24033 ],\n",
       "       [ 0.28556 ,  0.94911 ],\n",
       "       [ 0.55796 ,  0.45458 ],\n",
       "       [ 0.90728 ,  0.089873],\n",
       "       [ 0.14731 ,  1.0997  ],\n",
       "       [ 0.51904 ,  0.6184  ],\n",
       "       [ 0.5812  ,  0.37174 ],\n",
       "       [ 0.78268 ,  0.21527 ],\n",
       "       [ 0.016353,  0.91325 ],\n",
       "       [ 0.47996 ,  0.77356 ],\n",
       "       [ 0.58625 ,  0.4279  ],\n",
       "       [ 0.32063 ,  0.97855 ],\n",
       "       [ 0.24326 ,  1.0872  ],\n",
       "       [ 0.89082 ,  0.13205 ],\n",
       "       [ 0.8477  ,  0.079209],\n",
       "       [ 0.65013 ,  0.25514 ],\n",
       "       [ 0.87619 ,  0.30402 ],\n",
       "       [ 0.715   ,  0.20274 ],\n",
       "       [ 0.21487 ,  1.0851  ],\n",
       "       [ 0.57685 ,  0.28319 ],\n",
       "       [ 0.72453 ,  0.30067 ],\n",
       "       [ 0.016186,  0.80712 ],\n",
       "       [ 0.13795 ,  0.84285 ],\n",
       "       [ 0.57254 ,  0.46251 ],\n",
       "       [ 0.012743,  0.69141 ]])"
      ]
     },
     "execution_count": 13,
     "metadata": {},
     "output_type": "execute_result"
    }
   ],
   "source": [
    "train"
   ]
  },
  {
   "cell_type": "code",
   "execution_count": 14,
   "metadata": {
    "collapsed": false
   },
   "outputs": [
    {
     "data": {
      "text/plain": [
       "array([[ 0.24261 ,  1.0232  ],\n",
       "       [ 0.90133 ,  0.21189 ],\n",
       "       [ 0.65082 ,  0.11862 ],\n",
       "       [ 0.832   ,  0.24985 ],\n",
       "       [ 0.24265 ,  0.98807 ],\n",
       "       [ 0.22379 ,  1.0543  ],\n",
       "       [ 0.76157 ,  0.28938 ],\n",
       "       [ 0.1428  ,  1.0873  ],\n",
       "       [ 0.60749 ,  0.59353 ],\n",
       "       [ 0.13412 ,  1.2569  ],\n",
       "       [ 0.76252 ,  0.091609],\n",
       "       [ 0.25648 ,  0.93484 ],\n",
       "       [ 0.69451 ,  0.19398 ],\n",
       "       [ 0.1575  ,  1.0454  ],\n",
       "       [ 0.45317 ,  0.69052 ],\n",
       "       [ 0.32607 ,  0.85856 ],\n",
       "       [ 0.79801 , -0.008473],\n",
       "       [ 0.18416 ,  1.1308  ],\n",
       "       [ 0.16392 ,  1.2247  ],\n",
       "       [ 0.46635 ,  0.50976 ],\n",
       "       [ 0.03887 ,  0.79283 ],\n",
       "       [ 0.69888 ,  0.29482 ],\n",
       "       [ 0.52958 ,  0.60364 ],\n",
       "       [ 0.50647 ,  0.69627 ],\n",
       "       [ 0.5995  ,  0.28685 ],\n",
       "       [ 0.058972,  0.94799 ],\n",
       "       [ 0.68849 ,  0.1395  ],\n",
       "       [ 0.38261 ,  0.75929 ],\n",
       "       [ 0.63028 ,  0.31856 ],\n",
       "       [ 0.58898 ,  0.35595 ],\n",
       "       [ 0.57338 ,  0.42143 ],\n",
       "       [ 0.23944 ,  1.02    ],\n",
       "       [ 0.4773  ,  0.76368 ],\n",
       "       [ 0.97694 ,  0.48927 ],\n",
       "       [ 0.91329 ,  0.10798 ],\n",
       "       [ 0.33226 ,  0.74293 ],\n",
       "       [ 0.91942 ,  0.2101  ],\n",
       "       [ 0.19446 ,  0.92892 ],\n",
       "       [ 0.4773  ,  0.61643 ],\n",
       "       [ 0.18921 ,  0.95759 ],\n",
       "       [ 0.72757 ,  0.36886 ],\n",
       "       [ 0.97652 ,  0.23641 ],\n",
       "       [ 0.040263,  0.93099 ],\n",
       "       [ 0.48976 ,  0.64098 ],\n",
       "       [ 0.72363 ,  0.074964],\n",
       "       [ 0.42039 ,  0.66792 ],\n",
       "       [ 0.62843 ,  0.30405 ],\n",
       "       [ 0.92423 ,  0.22167 ],\n",
       "       [ 0.1087  ,  1.0019  ],\n",
       "       [ 0.14056 ,  1.0594  ]])"
      ]
     },
     "execution_count": 14,
     "metadata": {},
     "output_type": "execute_result"
    }
   ],
   "source": [
    "test"
   ]
  },
  {
   "cell_type": "code",
   "execution_count": null,
   "metadata": {
    "collapsed": true
   },
   "outputs": [],
   "source": []
  }
 ],
 "metadata": {
  "anaconda-cloud": {},
  "kernelspec": {
   "display_name": "Python [Root]",
   "language": "python",
   "name": "Python [Root]"
  },
  "language_info": {
   "codemirror_mode": {
    "name": "ipython",
    "version": 2
   },
   "file_extension": ".py",
   "mimetype": "text/x-python",
   "name": "python",
   "nbconvert_exporter": "python",
   "pygments_lexer": "ipython2",
   "version": "2.7.11"
  }
 },
 "nbformat": 4,
 "nbformat_minor": 0
}
