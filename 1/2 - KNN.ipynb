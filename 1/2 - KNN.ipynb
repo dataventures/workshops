{
 "cells": [
  {
   "cell_type": "markdown",
   "metadata": {},
   "source": [
    "# K Nearest Neighbors\n",
    "\n",
    "K nearest neighbors is another conceptually simple supervised learning approach."
   ]
  },
  {
   "cell_type": "markdown",
   "metadata": {},
   "source": [
    "## Algorithm\n",
    "\n",
    "Given an input i that we want to predict an output for, find the k inputs in the input space most similar to i. Then, average the outputs of those k inputs to predict the output for i. Unlike regression, there is no training phase, since we are not trying to find a function between the input and output spaces. \n",
    "\n",
    "The steps for kNN are:\n",
    "\n",
    "1. Take in a new instance that we want to predict the output for\n",
    "\n",
    "2. Iterate through the dataset, compiling a set S of the k closest inputs to i\n",
    "\n",
    "3. Calculate the nearest neighbors response by looking at the corresponding outputs to the inputs in S - average the outputs for regression and take the majority vote for classification.\n"
   ]
  },
  {
   "cell_type": "markdown",
   "metadata": {},
   "source": [
    "## Design Decisions\n",
    "\n",
    "In the basic kNN model, the only decisions we need to make are what to choose for the value of k and how to define the distance between inputs in order to determine our definition of similarity. \n",
    "\n",
    "For large values of k we get less distinction between classes, as we are then just averaging over large subsets of the entire dataset. On the other hand, for small values of k, our predictions may be strongly affected by noise. There are several ways to choose the optimal value of k for a given dataset. These methods include k-fold cross validation. \n"
   ]
  },
  {
   "cell_type": "markdown",
   "metadata": {},
   "source": [
    "## Implementation\n",
    "This is an implementation of regression kNN."
   ]
  },
  {
   "cell_type": "code",
   "execution_count": null,
   "metadata": {
    "collapsed": true
   },
   "outputs": [],
   "source": [
    "import numpy as np \n",
    "import matplotlib.pyplot as plt \n",
    "import pandas as pd\n",
    "\n",
    "# m is a percent\n",
    "def split(data, m):\n",
    "    df_shuffled = data.iloc[np.random.permutation(len(data))]\n",
    "    df_training = df_shuffled[:int(m/100.0*len(data))]\n",
    "    df_test = df_shuffled[int(m/100.0*len(data)):]\n",
    "    return df_training, df_test \n",
    "\n",
    "#k nearest neighbors\n",
    "def knn_predict(k,train,test):\n",
    "    test_array = test.values\n",
    "    train_array = train.values\n",
    "    #create an array of zeros that will be our sum of nearest neighbors\n",
    "    sum_of_nn = np.zeros(len(test_array))\n",
    "    #loop through k times, and each time add the test value that corresponds to the kth closest distance to sum_of_nn\n",
    "    for i in range(k):\n",
    "        array_closest_i = map(lambda x: np.argsort(abs(x-train_array[:,0]))[i],test_array)\n",
    "        sum_of_nn += map(lambda x: train_array[x,1],array_closest_i)       \n",
    "        \n",
    "    #finally divide by k to get the average\n",
    "    prediction = sum_of_nn/float(k)\n",
    "    return pd.DataFrame(np.array([test_array,prediction])).T"
   ]
  },
  {
   "cell_type": "markdown",
   "metadata": {},
   "source": [
    "Now we'll run kNN with different values of k and observe the results. First, we'll import the data set."
   ]
  },
  {
   "cell_type": "code",
   "execution_count": null,
   "metadata": {
    "collapsed": true
   },
   "outputs": [],
   "source": [
    "dataset1 = pd.read_csv('dataset_1_full.txt')\n",
    "train, test = split(dataset1, 70)\n",
    "test1 = test.ix[:,0]"
   ]
  },
  {
   "cell_type": "code",
   "execution_count": null,
   "metadata": {
    "collapsed": false
   },
   "outputs": [],
   "source": [
    "prediction1 = knn_predict(10,train,test1)\n",
    "prediction1.head()"
   ]
  },
  {
   "cell_type": "code",
   "execution_count": null,
   "metadata": {
    "collapsed": false
   },
   "outputs": [],
   "source": [
    "prediction2 = knn_predict(20,train,test1)\n",
    "prediction2.head()"
   ]
  },
  {
   "cell_type": "code",
   "execution_count": null,
   "metadata": {
    "collapsed": false
   },
   "outputs": [],
   "source": [
    "prediction3 = knn_predict(30,train,test1)\n",
    "prediction3.head()"
   ]
  },
  {
   "cell_type": "markdown",
   "metadata": {},
   "source": [
    "As you can see, the results of kNN are heavily dependent on the value for k that you choose. "
   ]
  },
  {
   "cell_type": "markdown",
   "metadata": {},
   "source": [
    "## Analysis\n",
    "\n",
    "kNN is a very easy algorithm to understand. However, there are several major drawbacks. First off, notice that KNN does not find an explicit function mapping inputs to outputs, like regression does. Instead, it searches through the dataset to find the neighbors. This forces us to store the entire training dataset. In addition, the process of traversing the dataset can be very expensive for large datasets. Finally, as we saw earlier, choosing the correct value of k is crucial to getting a high performing algorithm."
   ]
  },
  {
   "cell_type": "markdown",
   "metadata": {},
   "source": [
    "## Application"
   ]
  },
  {
   "cell_type": "markdown",
   "metadata": {},
   "source": [
    "Of course, you won't have to implement the KNN algorithm yourself every time. Like for regression, Scikit-learn has a k nearest neighbors implementation that you can use. It supports kNN regression:"
   ]
  },
  {
   "cell_type": "code",
   "execution_count": null,
   "metadata": {
    "collapsed": false
   },
   "outputs": [],
   "source": [
    "X = [[0], [1], [2], [3], [4]]\n",
    "y = [0, 0, 1, 1, 2]\n",
    "from sklearn.neighbors import KNeighborsRegressor\n",
    "neigh = KNeighborsRegressor(n_neighbors=3)\n",
    "neigh.fit(X, y) \n",
    "print(neigh.predict([[1.5]]))"
   ]
  },
  {
   "cell_type": "markdown",
   "metadata": {},
   "source": [
    "as well as kNN classification: "
   ]
  },
  {
   "cell_type": "code",
   "execution_count": null,
   "metadata": {
    "collapsed": false
   },
   "outputs": [],
   "source": [
    "X = [[0], [1], [2], [3]]\n",
    "y = [0, 0, 1, 1]\n",
    "from sklearn.neighbors import KNeighborsClassifier\n",
    "neigh = KNeighborsClassifier(n_neighbors=3)\n",
    "neigh.fit(X, y) \n",
    "print(neigh.predict([[1.8]]))"
   ]
  },
  {
   "cell_type": "markdown",
   "metadata": {},
   "source": [
    "## Challenge: kNN for Digit Classification \n",
    "\n",
    "Your challenge is to use kNN for the classification of handwritten digits. We will be using the MNIST dataset of handwritten digits.\n",
    "\n",
    "Upon getting the dataset, first you should split the data into a training set and testing set. Then, you can convert each of the images to a vector. That allows you to perform kNN on these images to get your predictions on the test set. Finally, compare your predictions to the actual values to determine the accuracy of implementation.\n",
    "\n",
    "Have fun!"
   ]
  },
  {
   "cell_type": "code",
   "execution_count": 1,
   "metadata": {
    "collapsed": false
   },
   "outputs": [],
   "source": [
    "from sklearn.datasets import load_digits\n",
    "import matplotlib.pyplot as plt \n",
    "digits = load_digits()"
   ]
  },
  {
   "cell_type": "markdown",
   "metadata": {},
   "source": [
    "The dataset consists of inputs in digits.images, and outputs in digits.target"
   ]
  },
  {
   "cell_type": "code",
   "execution_count": 2,
   "metadata": {
    "collapsed": false
   },
   "outputs": [
    {
     "data": {
      "text/plain": [
       "<matplotlib.figure.Figure at 0x10c786b10>"
      ]
     },
     "metadata": {},
     "output_type": "display_data"
    },
    {
     "data": {
      "image/png": "[encoded data removed]",
      "text/plain": [
       "<matplotlib.figure.Figure at 0x10c786c10>"
      ]
     },
     "metadata": {},
     "output_type": "display_data"
    },
    {
     "name": "stdout",
     "output_type": "stream",
     "text": [
      "[[  0.   0.   0.   5.  14.  12.   2.   0.]\n",
      " [  0.   0.   7.  15.   8.  14.   4.   0.]\n",
      " [  0.   0.   6.   2.   3.  13.   1.   0.]\n",
      " [  0.   0.   0.   1.  13.   4.   0.   0.]\n",
      " [  0.   0.   1.  11.   9.   0.   0.   0.]\n",
      " [  0.   8.  16.  13.   0.   0.   0.   0.]\n",
      " [  0.   5.  14.  16.  11.   2.   0.   0.]\n",
      " [  0.   0.   0.   6.  12.  13.   3.   0.]]\n",
      "2\n"
     ]
    }
   ],
   "source": [
    "plt.gray() \n",
    "plt.matshow(digits.images[50]) \n",
    "plt.show() \n",
    "\n",
    "print(digits.images[50])\n",
    "print(digits.target[50])"
   ]
  },
  {
   "cell_type": "code",
   "execution_count": null,
   "metadata": {
    "collapsed": true
   },
   "outputs": [],
   "source": []
  }
 ],
 "metadata": {
  "kernelspec": {
   "display_name": "Python 2",
   "language": "python",
   "name": "python2"
  },
  "language_info": {
   "codemirror_mode": {
    "name": "ipython",
    "version": 2
   },
   "file_extension": ".py",
   "mimetype": "text/x-python",
   "name": "python",
   "nbconvert_exporter": "python",
   "pygments_lexer": "ipython2",
   "version": "2.7.8"
  }
 },
 "nbformat": 4,
 "nbformat_minor": 0
}
