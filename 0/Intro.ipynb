{
 "cells": [
  {
   "cell_type": "markdown",
   "metadata": {},
   "source": [
    "## Welcome to Harvard Data Ventures Workshop 0\n",
    "\n",
    "Modified from an IPython Notebook created by Rick Muller [here](http://nbviewer.jupyter.org/gist/rpmuller/5920182)\n",
    "\n",
    "### Goals for today:\n",
    "1. Learn Python (if necessary)\n",
    "2. Start getting familiar with Python data munging and manipulation tools\n",
    "3. Tackle an introductory data science task\n"
   ]
  },
  {
   "cell_type": "markdown",
   "metadata": {},
   "source": [
    "## Why Python?\n",
    "\n",
    "Python is the programming language of choice for many scientists to a large degree because it offers a great deal of power to analyze and model scientific data with relatively little overhead in terms of learning, installation or development time. It is a language you can pick up in a weekend, and use for the rest of one's life.\n",
    "\n",
    "In particular, the Python ecosystem (consisting of libraries and tools for data analysis and the people who write that code) is extremely rich, especially in the realm of data science.\n",
    "\n",
    "### Jupyter/IPython?\n",
    "\n",
    "What you're seeing now is an IPython or Jupyter notebook. The names are roughly interchangeable, though technically speaking they are different components. This notebook is an interactive method for running code.\n",
    "\n",
    "Usually, we write Python code in the form of Python scripts (i.e. files with extensions `.py`). IPython notebooks let us write code and evaluate them right away, while saving the code being written so that we can share it.\n",
    "\n",
    "### Instructions\n",
    "\n",
    "Just write code in the cells and press `Ctrl + Enter` to evaluate the cell contents. The output will show up below. For more detailed instructions, you can always reference [the docs](https://ipython.org/ipython-doc/dev/notebook/notebook.html#basic-workflow). "
   ]
  },
  {
   "cell_type": "markdown",
   "metadata": {},
   "source": [
    "## Plan for Today\n",
    "Feel free to skip any material if you know it already.\n",
    "1. [Introduction to Python]() (optional)\n",
    "2. [Manipulating data]()\n",
    "3. [Something here]()\n",
    "4. [Addendum]() (optional)"
   ]
  },
  {
   "cell_type": "code",
   "execution_count": null,
   "metadata": {
    "collapsed": true
   },
   "outputs": [],
   "source": []
  }
 ],
 "metadata": {
  "kernelspec": {
   "display_name": "Python 2",
   "language": "python",
   "name": "python2"
  },
  "language_info": {
   "codemirror_mode": {
    "name": "ipython",
    "version": 2
   },
   "file_extension": ".py",
   "mimetype": "text/x-python",
   "name": "python",
   "nbconvert_exporter": "python",
   "pygments_lexer": "ipython2",
   "version": "2.7.8"
  }
 },
 "nbformat": 4,
 "nbformat_minor": 0
}
