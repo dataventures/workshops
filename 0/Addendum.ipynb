{
 "cells": [
  {
   "cell_type": "markdown",
   "metadata": {},
   "source": [
    "## Addendum\n",
    "\n",
    "As you move forward, here are a few things to keep in mind:\n",
    "\n",
    "### More practice\n",
    "You can find more practice in Harvard's CS 109 course, which covers a lot of the same material. Here's a [link](https://github.com/cs109/2015/blob/master/Lectures/02-DataScrapingQuizzes.ipynb). \n",
    "\n",
    "### Installation\n",
    "Since you won't always have access to the IPython notebook environment that we've set up here, you should probably install a local data science environment:\n",
    "\n",
    "Instructions go here"
   ]
  },
  {
   "cell_type": "code",
   "execution_count": null,
   "metadata": {
    "collapsed": true
   },
   "outputs": [],
   "source": []
  }
 ],
 "metadata": {
  "kernelspec": {
   "display_name": "Python 2",
   "language": "python",
   "name": "python2"
  },
  "language_info": {
   "codemirror_mode": {
    "name": "ipython",
    "version": 2
   },
   "file_extension": ".py",
   "mimetype": "text/x-python",
   "name": "python",
   "nbconvert_exporter": "python",
   "pygments_lexer": "ipython2",
   "version": "2.7.8"
  }
 },
 "nbformat": 4,
 "nbformat_minor": 0
}
